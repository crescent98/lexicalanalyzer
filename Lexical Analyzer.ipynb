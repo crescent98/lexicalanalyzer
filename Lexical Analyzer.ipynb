{
  "nbformat": 4,
  "nbformat_minor": 0,
  "metadata": {
    "colab": {
      "name": "Untitled1.ipynb",
      "provenance": [],
      "authorship_tag": "ABX9TyNMkvMoivn83LUsJnyhFi7P",
      "include_colab_link": true
    },
    "kernelspec": {
      "name": "python3",
      "display_name": "Python 3"
    }
  },
  "cells": [
    {
      "cell_type": "markdown",
      "metadata": {
        "id": "view-in-github",
        "colab_type": "text"
      },
      "source": [
        "<a href=\"https://colab.research.google.com/github/crescent98/lexicalanalyzer/blob/master/Lexical%20Analyzer.ipynb\" target=\"_parent\"><img src=\"https://colab.research.google.com/assets/colab-badge.svg\" alt=\"Open In Colab\"/></a>"
      ]
    },
    {
      "cell_type": "markdown",
      "metadata": {
        "id": "k0LwRLcn3c_o",
        "colab_type": "text"
      },
      "source": [
        "# ***Lexical Analyzer***"
      ]
    },
    {
      "cell_type": "markdown",
      "metadata": {
        "id": "yXFy5Une3kJM",
        "colab_type": "text"
      },
      "source": [
        "# *Token Scanner*"
      ]
    },
    {
      "cell_type": "code",
      "metadata": {
        "id": "P9XuAP7oOLqH",
        "colab_type": "code",
        "colab": {}
      },
      "source": [
        "#dictionary 형식으로 DFA 구현\n",
        "T_SI=[]\n",
        "T_SI.append({})\n",
        "T_SI[0][1]=1\n",
        "T_SI[0][2]=3\n",
        "T_SI[0][3]=2\n",
        "T_SI.append({})\n",
        "T_SI[1][3]=4\n",
        "T_SI.append({})\n",
        "T_SI[2][3]=6\n",
        "T_SI[2][2]=5\n",
        "T_SI.append({})\n",
        "T_SI.append({})\n",
        "T_SI[4][2]=5\n",
        "T_SI[4][3]=6\n",
        "T_SI.append({})\n",
        "T_SI[5][2]=5\n",
        "T_SI[5][3]=6\n",
        "T_SI.append({})\n",
        "T_SI[6][2]=5\n",
        "T_SI[6][3]=6\n",
        "\n",
        "#signed_integer scanner\n",
        "def signedInt_scanner(input):\n",
        "  t_state=0\n",
        "  for i in range(0,len(input)):\n",
        "    char_temp=0\n",
        "    if input[i]=='-':\n",
        "      char_temp=1\n",
        "    elif input[i]=='0':\n",
        "      char_temp=2\n",
        "    elif input[i].isdigit()==True:\n",
        "      char_temp=3\n",
        "    else:\n",
        "      print(\"Not Integer\")\n",
        "      return -1\n",
        "    t_state=T_SI[t_state][char_temp]\n",
        "  if t_state==4 or t_state==3 or t_state==2 or t_state==6 or t_state==5:\n",
        "    print(\"Integer\")\n",
        "  else:\n",
        "    print(\"Not Integer\")\n",
        "  return t_state"
      ],
      "execution_count": 0,
      "outputs": []
    },
    {
      "cell_type": "code",
      "metadata": {
        "id": "pPnKiWzhUXlq",
        "colab_type": "code",
        "colab": {}
      },
      "source": [
        "T_ID=[{1: 1, 2: -1, 3: 2},\n",
        "      {1: 3, 2: 4, 3: 5},\n",
        "      {1: 6, 2: 7, 3: 8},\n",
        "      {1: 3, 2: 4, 3: 5},\n",
        "      {1: 3, 2: 4, 3: 5},\n",
        "      {1: 3, 2: 4, 3: 5},\n",
        "      {1: 6, 2: 7, 3: 8},\n",
        "      {1: 6, 2: 7, 3: 8},\n",
        "      {1: 6, 2: 7, 3: 8}]\n",
        "  \n",
        "#identifier\n",
        "def id_scanner(input):\n",
        "  t_state=0\n",
        "  for i in range(0,len(input)):\n",
        "    char_temp=0\n",
        "    if input[i]=='_':\n",
        "      char_temp=1\n",
        "      print(\"_\")\n",
        "    elif input[i].isdigit()==True:\n",
        "      char_temp=2\n",
        "      print(\"digit\")\n",
        "    elif input[i].isalpha()==True:\n",
        "      char_temp=3\n",
        "      print(\"alpha\")\n",
        "    else:\n",
        "      print(\"Not Identifier\")\n",
        "    t_state=T_ID[t_state][char_temp]\n",
        "    if t_state==-1:\n",
        "      print(\"Not Identifier\")\n",
        "      return -1\n",
        "  if t_state==1 or t_state==2 or t_state==3 or t_state==4 or t_state==5 or t_state==6 or t_state==7 or t_state==8:\n",
        "    print(\"Identifier\")\n",
        "    return t_state\n",
        "  else:\n",
        "    print(\"Not Identifier\")\n",
        "    return t_state"
      ],
      "execution_count": 0,
      "outputs": []
    },
    {
      "cell_type": "code",
      "metadata": {
        "id": "0klk4cGys3xU",
        "colab_type": "code",
        "colab": {}
      },
      "source": [
        "T_OP=[{1: 1, 2: 2, 3: 3, 4: 4, 5: 5, 6: 6},\n",
        "      {1: -1, 2: -1, 3: -1, 4: -1, 5: -1, 6: -1},\n",
        "      {1: -1, 2: -1, 3: -1, 4: -1, 5: -1, 6: -1},\n",
        "      {1: -1, 2: -1, 3:  8, 4: -1, 5: -1, 6:  7},\n",
        "      {1: -1, 2: -1, 3: -1, 4: 10, 5: -1, 6:  9},\n",
        "      {1: -1, 2: -1, 3: -1, 4: -1, 5: -1, 6: 11},\n",
        "      {1: -1, 2: -1, 3: -1, 4: -1, 5: -1, 6: 12},\n",
        "      {1: -1, 2: -1, 3: -1, 4: -1, 5: -1, 6: -1},\n",
        "      {1: -1, 2: -1, 3: -1, 4: -1, 5: -1, 6: -1},\n",
        "      {1: -1, 2: -1, 3: -1, 4: -1, 5: -1, 6: -1},\n",
        "      {1: -1, 2: -1, 3: -1, 4: -1, 5: -1, 6: -1},\n",
        "      {1: -1, 2: -1, 3: -1, 4: -1, 5: -1, 6: -1},\n",
        "      {1: -1, 2: -1, 3: -1, 4: -1, 5: -1, 6: -1}\n",
        "      ]\n",
        "\n",
        "def op_scanner(input):\n",
        "  t_state=0\n",
        "  for i in range(0,len(input)):\n",
        "    char_temp=0\n",
        "    if input[i]=='&':\n",
        "      char_temp=1\n",
        "    elif input[i]=='|':\n",
        "      char_temp=2\n",
        "    elif input[i]=='<':\n",
        "      char_temp=3\n",
        "    elif input[i]=='>':\n",
        "      char_temp=4\n",
        "    elif input[i]=='!':\n",
        "      char_temp=5\n",
        "    elif input[i]=='=':\n",
        "      char_temp=6\n",
        "    else:\n",
        "      print(\"Not Operator\")\n",
        "      return -1\n",
        "    t_state=T_OP[t_state][char_temp]\n",
        "    if t_state==-1:\n",
        "      print(\"Not Operator\")\n",
        "      return -1\n",
        "  if t_state==1 or t_state==2 or t_state==3 or t_state==6 or t_state==7 or t_state==8 or t_state==9 or t_state==10 or t_state==11 or t_state==12:\n",
        "    print(\"Operator\")\n",
        "    return t_state\n",
        "  else:\n",
        "    print(\"Not Operator\")\n",
        "    return t_state"
      ],
      "execution_count": 0,
      "outputs": []
    },
    {
      "cell_type": "code",
      "metadata": {
        "id": "pJVqFvLY3uGP",
        "colab_type": "code",
        "colab": {}
      },
      "source": [
        ""
      ],
      "execution_count": 0,
      "outputs": []
    }
  ]
}